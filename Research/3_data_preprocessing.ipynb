{
 "cells": [
  {
   "cell_type": "code",
   "execution_count": 1,
   "metadata": {},
   "outputs": [],
   "source": [
    "import sys\n",
    "import os\n",
    "sys.path.append(os.path.abspath(\"..\"))  \n",
    "\n",
    "from src.data_loading_1 import data_loading\n",
    "from src.data_cleaning_2 import data_cleaning\n",
    "import pandas as pd\n",
    "import numpy as np\n",
    "from sklearn.model_selection import train_test_split"
   ]
  },
  {
   "cell_type": "code",
   "execution_count": 2,
   "metadata": {},
   "outputs": [
    {
     "name": "stdout",
     "output_type": "stream",
     "text": [
      "Data loaded successfully.....\n",
      "Data is cleaned...\n"
     ]
    },
    {
     "data": {
      "text/html": [
       "<div>\n",
       "<style scoped>\n",
       "    .dataframe tbody tr th:only-of-type {\n",
       "        vertical-align: middle;\n",
       "    }\n",
       "\n",
       "    .dataframe tbody tr th {\n",
       "        vertical-align: top;\n",
       "    }\n",
       "\n",
       "    .dataframe thead th {\n",
       "        text-align: right;\n",
       "    }\n",
       "</style>\n",
       "<table border=\"1\" class=\"dataframe\">\n",
       "  <thead>\n",
       "    <tr style=\"text-align: right;\">\n",
       "      <th></th>\n",
       "      <th>CreditScore</th>\n",
       "      <th>Geography</th>\n",
       "      <th>Gender</th>\n",
       "      <th>Age</th>\n",
       "      <th>Tenure</th>\n",
       "      <th>EstimatedSalary</th>\n",
       "      <th>Balance</th>\n",
       "      <th>NumOfProducts</th>\n",
       "      <th>HasCrCard</th>\n",
       "      <th>IsActiveMember</th>\n",
       "      <th>Exited</th>\n",
       "    </tr>\n",
       "  </thead>\n",
       "  <tbody>\n",
       "    <tr>\n",
       "      <th>0</th>\n",
       "      <td>619</td>\n",
       "      <td>France</td>\n",
       "      <td>Female</td>\n",
       "      <td>42.0</td>\n",
       "      <td>2</td>\n",
       "      <td>101348.88</td>\n",
       "      <td>0.00</td>\n",
       "      <td>1</td>\n",
       "      <td>Yes</td>\n",
       "      <td>Yes</td>\n",
       "      <td>1</td>\n",
       "    </tr>\n",
       "    <tr>\n",
       "      <th>1</th>\n",
       "      <td>619</td>\n",
       "      <td>France</td>\n",
       "      <td>Female</td>\n",
       "      <td>42.0</td>\n",
       "      <td>2</td>\n",
       "      <td>101348.88</td>\n",
       "      <td>0.00</td>\n",
       "      <td>1</td>\n",
       "      <td>Yes</td>\n",
       "      <td>Yes</td>\n",
       "      <td>1</td>\n",
       "    </tr>\n",
       "    <tr>\n",
       "      <th>2</th>\n",
       "      <td>608</td>\n",
       "      <td>Spain</td>\n",
       "      <td>Female</td>\n",
       "      <td>41.0</td>\n",
       "      <td>1</td>\n",
       "      <td>112542.58</td>\n",
       "      <td>83807.86</td>\n",
       "      <td>1</td>\n",
       "      <td>Yes</td>\n",
       "      <td>Yes</td>\n",
       "      <td>0</td>\n",
       "    </tr>\n",
       "    <tr>\n",
       "      <th>3</th>\n",
       "      <td>502</td>\n",
       "      <td>France</td>\n",
       "      <td>Female</td>\n",
       "      <td>42.0</td>\n",
       "      <td>8</td>\n",
       "      <td>113931.57</td>\n",
       "      <td>159660.80</td>\n",
       "      <td>3</td>\n",
       "      <td>No</td>\n",
       "      <td>No</td>\n",
       "      <td>1</td>\n",
       "    </tr>\n",
       "    <tr>\n",
       "      <th>4</th>\n",
       "      <td>699</td>\n",
       "      <td>France</td>\n",
       "      <td>Female</td>\n",
       "      <td>39.0</td>\n",
       "      <td>1</td>\n",
       "      <td>93826.63</td>\n",
       "      <td>0.00</td>\n",
       "      <td>2</td>\n",
       "      <td>No</td>\n",
       "      <td>No</td>\n",
       "      <td>0</td>\n",
       "    </tr>\n",
       "  </tbody>\n",
       "</table>\n",
       "</div>"
      ],
      "text/plain": [
       "   CreditScore Geography  Gender   Age  Tenure  EstimatedSalary    Balance  \\\n",
       "0          619    France  Female  42.0       2        101348.88       0.00   \n",
       "1          619    France  Female  42.0       2        101348.88       0.00   \n",
       "2          608     Spain  Female  41.0       1        112542.58   83807.86   \n",
       "3          502    France  Female  42.0       8        113931.57  159660.80   \n",
       "4          699    France  Female  39.0       1         93826.63       0.00   \n",
       "\n",
       "   NumOfProducts HasCrCard IsActiveMember  Exited  \n",
       "0              1       Yes            Yes       1  \n",
       "1              1       Yes            Yes       1  \n",
       "2              1       Yes            Yes       0  \n",
       "3              3        No             No       1  \n",
       "4              2        No             No       0  "
      ]
     },
     "execution_count": 2,
     "metadata": {},
     "output_type": "execute_result"
    }
   ],
   "source": [
    "df = data_loading()\n",
    "df = data_cleaning(df)\n",
    "df.head()"
   ]
  },
  {
   "cell_type": "code",
   "execution_count": 3,
   "metadata": {},
   "outputs": [],
   "source": [
    "numerical = []\n",
    "categorical = []\n",
    "for col in df.columns:\n",
    "    if df[col].dtype == 'object':\n",
    "        categorical.append(col)\n",
    "    else:\n",
    "        numerical.append(col)"
   ]
  },
  {
   "cell_type": "code",
   "execution_count": 4,
   "metadata": {},
   "outputs": [
    {
     "name": "stdout",
     "output_type": "stream",
     "text": [
      "DataFrame has 4 duplicate rows\n",
      "DataFrame has 0 duplicate rows after dropping duplicates\n"
     ]
    }
   ],
   "source": [
    "if df.duplicated().sum() > 0:\n",
    "    print(f\"DataFrame has {df.duplicated().sum()} duplicate rows\")\n",
    "    df = df.drop_duplicates()\n",
    "    print(f\"DataFrame has {df.duplicated().sum()} duplicate rows after dropping duplicates\")"
   ]
  },
  {
   "cell_type": "code",
   "execution_count": 5,
   "metadata": {},
   "outputs": [
    {
     "name": "stdout",
     "output_type": "stream",
     "text": [
      "Column Age has 3 missing values\n",
      "Column Age has been filled with mean value: 39\n",
      "Column EstimatedSalary has 3 missing values\n",
      "Column EstimatedSalary has been filled with mean value: 100092\n"
     ]
    }
   ],
   "source": [
    "for col in df.columns:\n",
    "    if df[col].isnull().sum() > 0:\n",
    "        if df[col].dtype == 'object':\n",
    "            print(f\"Column {col} has {df[col].isnull().sum()} missing values\")\n",
    "            df[col] = df[col].fillna(df[col].mode()[0])\n",
    "        else:\n",
    "            print(f\"Column {col} has {df[col].isnull().sum()} missing values\")\n",
    "            df[col] = df[col].fillna(round(df[col].mean()))\n",
    "            print(f\"Column {col} has been filled with mean value: {round(df[col].mean())}\")"
   ]
  },
  {
   "cell_type": "code",
   "execution_count": 6,
   "metadata": {},
   "outputs": [
    {
     "data": {
      "text/plain": [
       "['CreditScore',\n",
       " 'Age',\n",
       " 'Tenure',\n",
       " 'EstimatedSalary',\n",
       " 'Balance',\n",
       " 'NumOfProducts',\n",
       " 'Exited']"
      ]
     },
     "execution_count": 6,
     "metadata": {},
     "output_type": "execute_result"
    }
   ],
   "source": [
    "numerical"
   ]
  },
  {
   "cell_type": "code",
   "execution_count": 7,
   "metadata": {},
   "outputs": [
    {
     "name": "stdout",
     "output_type": "stream",
     "text": [
      "Column CreditScore has 15 outliers\n",
      "Outliers in column CreditScore have been clipped to the lower and upper bounds\n",
      "Column Tenure has 0 outliers\n",
      "Column EstimatedSalary has 0 outliers\n",
      "Column Balance has 0 outliers\n",
      "Column NumOfProducts has 60 outliers\n",
      "Outliers in column NumOfProducts have been clipped to the lower and upper bounds\n"
     ]
    }
   ],
   "source": [
    "def outliers(df):\n",
    "    for col in df.columns:\n",
    "        if col in numerical[:-1]:\n",
    "            if col != 'Age':\n",
    "                q1 = df[col].quantile(0.25)\n",
    "                q3 = df[col].quantile(0.75)\n",
    "                iqr = q3 - q1\n",
    "                lower_bound = q1 - 1.5 * iqr\n",
    "                upper_bound = q3 + 1.5 * iqr\n",
    "                outliers = df[(df[col] < lower_bound) | (df[col] > upper_bound)][col]\n",
    "                print(f\"Column {col} has {len(outliers)} outliers\")\n",
    "                if outliers.shape[0] > 0:\n",
    "                    df[col] = df[col].clip(lower_bound, upper_bound)\n",
    "                    print(f\"Outliers in column {col} have been clipped to the lower and upper bounds\")\n",
    "    return df\n",
    "\n",
    "df_cleaned = outliers(df)"
   ]
  },
  {
   "cell_type": "code",
   "execution_count": 8,
   "metadata": {},
   "outputs": [],
   "source": [
    "X, y = df_cleaned.drop(columns=['Exited']), df_cleaned['Exited']\n",
    "X_train, X_test, y_train, y_test = train_test_split(X, y, test_size=0.2, random_state=42)"
   ]
  },
  {
   "cell_type": "code",
   "execution_count": 9,
   "metadata": {},
   "outputs": [
    {
     "data": {
      "text/plain": [
       "['Geography', 'Gender', 'HasCrCard', 'IsActiveMember']"
      ]
     },
     "execution_count": 9,
     "metadata": {},
     "output_type": "execute_result"
    }
   ],
   "source": [
    "categorical"
   ]
  },
  {
   "cell_type": "code",
   "execution_count": 10,
   "metadata": {},
   "outputs": [
    {
     "data": {
      "text/plain": [
       "['/home/user/churniq/artifacts/encoded_columns.pkl']"
      ]
     },
     "execution_count": 10,
     "metadata": {},
     "output_type": "execute_result"
    }
   ],
   "source": [
    "import joblib\n",
    "\n",
    "X_train_dummies = pd.get_dummies(X_train, columns=categorical, drop_first=True)\n",
    "X_test_dummies = pd.get_dummies(X_test, columns=categorical, drop_first=True)\n",
    "\n",
    "X_test_dummies = X_test_dummies.reindex(columns=X_train_dummies.columns, fill_value=0)\n",
    "\n",
    "joblib.dump(X_train_dummies.columns.tolist(), '/home/user/churniq/artifacts/encoded_columns.pkl')"
   ]
  },
  {
   "cell_type": "code",
   "execution_count": 11,
   "metadata": {},
   "outputs": [
    {
     "data": {
      "text/plain": [
       "['/home/user/churniq/artifacts/scaler_std.pkl']"
      ]
     },
     "execution_count": 11,
     "metadata": {},
     "output_type": "execute_result"
    }
   ],
   "source": [
    "from sklearn.preprocessing import StandardScaler\n",
    "\n",
    "X_train_std = X_train_dummies.copy()\n",
    "X_test_std = X_test_dummies.copy()\n",
    "\n",
    "std = StandardScaler()\n",
    "\n",
    "X_train_std = std.fit_transform(X_train_std)\n",
    "X_test_std = std.transform(X_test_std)\n",
    "\n",
    "joblib.dump(std, '/home/user/churniq/artifacts/scaler_std.pkl')"
   ]
  },
  {
   "cell_type": "code",
   "execution_count": 18,
   "metadata": {},
   "outputs": [],
   "source": [
    "a = (df['Exited'].value_counts()*100/df.shape[0])[1]"
   ]
  },
  {
   "cell_type": "code",
   "execution_count": 25,
   "metadata": {},
   "outputs": [],
   "source": [
    "from imblearn.combine import SMOTETomek\n",
    "from imblearn.over_sampling import SMOTE\n",
    "\n",
    "if (df['Exited'].value_counts()*100/df.shape[0])[1] != (df['Exited'].value_counts()*100/df.shape[0])[0]:\n",
    "    smote = SMOTETomek(random_state=42)\n",
    "    X_train_resampled, y_train_resampled = smote.fit_resample(X_train_std, y_train)"
   ]
  },
  {
   "cell_type": "code",
   "execution_count": 26,
   "metadata": {},
   "outputs": [],
   "source": [
    "def data_preprocessing(df):\n",
    "    numerical = []\n",
    "    categorical = []\n",
    "    for col in df.columns:\n",
    "        if df[col].dtype == 'object':\n",
    "            categorical.append(col)\n",
    "        else:\n",
    "            numerical.append(col)\n",
    "    print(\"Checking for duplicates...\")\n",
    "    if df.duplicated().sum() > 0:\n",
    "        print(f\"DataFrame has {df.duplicated().sum()} duplicate rows\")\n",
    "        df = df.drop_duplicates()\n",
    "        print(f\"DataFrame has {df.duplicated().sum()} duplicate rows after dropping duplicates\")\n",
    "\n",
    "    print('Checking for missing values')\n",
    "    for col in df.columns:\n",
    "        if df[col].isnull().sum() > 0:\n",
    "            if df[col].dtype == 'object':\n",
    "                print(f\"Column {col} has {df[col].isnull().sum()} missing values\")\n",
    "                df[col] = df[col].fillna(df[col].mode()[0])\n",
    "            else:\n",
    "                print(f\"Column {col} has {df[col].isnull().sum()} missing values\")\n",
    "                df[col] = df[col].fillna(round(df[col].mean()))\n",
    "                print(f\"Column {col} has been filled with mean value: {round(df[col].mean())}\")\n",
    "\n",
    "    def outliers(df):\n",
    "        for col in df.columns:\n",
    "            if col in numerical[:-1]:\n",
    "                if col != 'Age':\n",
    "                    q1 = df[col].quantile(0.25)\n",
    "                    q3 = df[col].quantile(0.75)\n",
    "                    iqr = q3 - q1\n",
    "                    lower_bound = q1 - 1.5 * iqr\n",
    "                    upper_bound = q3 + 1.5 * iqr\n",
    "                    outliers = df[(df[col] < lower_bound) | (df[col] > upper_bound)][col]\n",
    "                    print(f\"Column {col} has {len(outliers)} outliers\")\n",
    "                    if outliers.shape[0] > 0:\n",
    "                        df[col] = df[col].clip(lower_bound, upper_bound)\n",
    "                        print(f\"Outliers in column {col} have been clipped to the lower and upper bounds\")\n",
    "        return df\n",
    "\n",
    "    df_cleaned = outliers(df)\n",
    "    \n",
    "    X, y = df_cleaned.drop(columns=['Exited']), df_cleaned['Exited']\n",
    "    X_train, X_test, y_train, y_test = train_test_split(X, y, test_size=0.2, random_state=42)\n",
    "\n",
    "    X_train_dummies = pd.get_dummies(X_train, columns=categorical, drop_first=True)\n",
    "    X_test_dummies = pd.get_dummies(X_test, columns=categorical, drop_first=True)\n",
    "\n",
    "    X_test_dummies = X_test_dummies.reindex(columns=X_train_dummies.columns, fill_value=0)\n",
    "\n",
    "    joblib.dump(X_train_dummies.columns.tolist(), '/home/user/churniq/artifacts/encoded_columns.pkl')\n",
    "\n",
    "    X_train_std = X_train_dummies.copy()\n",
    "    X_test_std = X_test_dummies.copy()\n",
    "\n",
    "    std = StandardScaler()\n",
    "\n",
    "    X_train_std = std.fit_transform(X_train_std)\n",
    "    X_test_std = std.transform(X_test_std)\n",
    "\n",
    "    joblib.dump(std, '/home/user/churniq/artifacts/scaler_std.pkl')\n",
    "    \n",
    "    if (df['Exited'].value_counts()*100/df.shape[0])[1] != (df['Exited'].value_counts()*100/df.shape[0])[0]:\n",
    "        smote = SMOTETomek(random_state=42)\n",
    "        X_train_resampled, y_train_resampled = smote.fit_resample(X_train_std, y_train)\n",
    "    \n",
    "    return X_train_resampled, X_test_std, y_train_resampled, y_test"
   ]
  },
  {
   "cell_type": "code",
   "execution_count": 27,
   "metadata": {},
   "outputs": [
    {
     "name": "stdout",
     "output_type": "stream",
     "text": [
      "Checking for duplicates...\n",
      "Checking for missing values\n",
      "Column CreditScore has 0 outliers\n",
      "Column Tenure has 0 outliers\n",
      "Column EstimatedSalary has 0 outliers\n",
      "Column Balance has 0 outliers\n",
      "Column NumOfProducts has 0 outliers\n"
     ]
    }
   ],
   "source": [
    "X_train,X_test,y_train,y_test = data_preprocessing(df)"
   ]
  },
  {
   "cell_type": "code",
   "execution_count": null,
   "metadata": {},
   "outputs": [],
   "source": []
  }
 ],
 "metadata": {
  "kernelspec": {
   "display_name": ".venv",
   "language": "python",
   "name": "python3"
  },
  "language_info": {
   "codemirror_mode": {
    "name": "ipython",
    "version": 3
   },
   "file_extension": ".py",
   "mimetype": "text/x-python",
   "name": "python",
   "nbconvert_exporter": "python",
   "pygments_lexer": "ipython3",
   "version": "3.11.10"
  }
 },
 "nbformat": 4,
 "nbformat_minor": 2
}
