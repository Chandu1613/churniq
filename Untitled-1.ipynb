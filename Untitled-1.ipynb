{
 "cells": [
  {
   "cell_type": "markdown",
   "id": "46ee2976",
   "metadata": {},
   "source": [
    "# Problem Statement\n",
    "\n",
    "### Customer churn is a significant issue for banks, impacting revenue and customer lifetime value. The goal is to develop a machine learning model that predicts whether a customer will churn (leave the bank) based on their demographic, financial, and account activity data."
   ]
  },
  {
   "cell_type": "markdown",
   "id": "09158472",
   "metadata": {},
   "source": [
    "# Dependencies"
   ]
  },
  {
   "cell_type": "code",
   "execution_count": 1,
   "id": "042a34b5",
   "metadata": {},
   "outputs": [],
   "source": [
    "import pandas as pd\n",
    "import numpy as np\n",
    "import matplotlib.pyplot as plt\n",
    "%matplotlib inline\n",
    "import seaborn as sns\n",
    "sns.set()\n",
    "import warnings\n",
    "warnings.filterwarnings('ignore')\n",
    "import joblib"
   ]
  },
  {
   "cell_type": "markdown",
   "id": "f490476f",
   "metadata": {},
   "source": [
    "# Gather and Explore the Data"
   ]
  },
  {
   "cell_type": "code",
   "execution_count": 2,
   "id": "ab8367ce",
   "metadata": {},
   "outputs": [],
   "source": [
    "dict_df = pd.read_excel('Bank_Churn_Messy.xlsx',sheet_name=['Customer_Info','Account_Info'])\n",
    "customer_df = dict_df.get('Customer_Info')\n",
    "acc_df = dict_df.get('Account_Info')"
   ]
  },
  {
   "cell_type": "code",
   "execution_count": 3,
   "id": "e4ee1bdb",
   "metadata": {},
   "outputs": [
    {
     "data": {
      "text/html": [
       "<div>\n",
       "<style scoped>\n",
       "    .dataframe tbody tr th:only-of-type {\n",
       "        vertical-align: middle;\n",
       "    }\n",
       "\n",
       "    .dataframe tbody tr th {\n",
       "        vertical-align: top;\n",
       "    }\n",
       "\n",
       "    .dataframe thead th {\n",
       "        text-align: right;\n",
       "    }\n",
       "</style>\n",
       "<table border=\"1\" class=\"dataframe\">\n",
       "  <thead>\n",
       "    <tr style=\"text-align: right;\">\n",
       "      <th></th>\n",
       "      <th>CustomerId</th>\n",
       "      <th>Surname</th>\n",
       "      <th>CreditScore</th>\n",
       "      <th>Geography</th>\n",
       "      <th>Gender</th>\n",
       "      <th>Age</th>\n",
       "      <th>Tenure</th>\n",
       "      <th>EstimatedSalary</th>\n",
       "      <th>Balance</th>\n",
       "      <th>NumOfProducts</th>\n",
       "      <th>HasCrCard</th>\n",
       "      <th>IsActiveMember</th>\n",
       "      <th>Exited</th>\n",
       "    </tr>\n",
       "  </thead>\n",
       "  <tbody>\n",
       "    <tr>\n",
       "      <th>0</th>\n",
       "      <td>15634602</td>\n",
       "      <td>Hargrave</td>\n",
       "      <td>619</td>\n",
       "      <td>FRA</td>\n",
       "      <td>Female</td>\n",
       "      <td>42.0</td>\n",
       "      <td>2</td>\n",
       "      <td>€101348.88</td>\n",
       "      <td>€0.0</td>\n",
       "      <td>1</td>\n",
       "      <td>Yes</td>\n",
       "      <td>Yes</td>\n",
       "      <td>1</td>\n",
       "    </tr>\n",
       "    <tr>\n",
       "      <th>1</th>\n",
       "      <td>15634602</td>\n",
       "      <td>Hargrave</td>\n",
       "      <td>619</td>\n",
       "      <td>FRA</td>\n",
       "      <td>Female</td>\n",
       "      <td>42.0</td>\n",
       "      <td>2</td>\n",
       "      <td>€101348.88</td>\n",
       "      <td>€0.0</td>\n",
       "      <td>1</td>\n",
       "      <td>Yes</td>\n",
       "      <td>Yes</td>\n",
       "      <td>1</td>\n",
       "    </tr>\n",
       "    <tr>\n",
       "      <th>2</th>\n",
       "      <td>15647311</td>\n",
       "      <td>Hill</td>\n",
       "      <td>608</td>\n",
       "      <td>Spain</td>\n",
       "      <td>Female</td>\n",
       "      <td>41.0</td>\n",
       "      <td>1</td>\n",
       "      <td>€112542.58</td>\n",
       "      <td>€83807.86</td>\n",
       "      <td>1</td>\n",
       "      <td>Yes</td>\n",
       "      <td>Yes</td>\n",
       "      <td>0</td>\n",
       "    </tr>\n",
       "    <tr>\n",
       "      <th>3</th>\n",
       "      <td>15619304</td>\n",
       "      <td>Onio</td>\n",
       "      <td>502</td>\n",
       "      <td>French</td>\n",
       "      <td>Female</td>\n",
       "      <td>42.0</td>\n",
       "      <td>8</td>\n",
       "      <td>€113931.57</td>\n",
       "      <td>€159660.8</td>\n",
       "      <td>3</td>\n",
       "      <td>No</td>\n",
       "      <td>No</td>\n",
       "      <td>1</td>\n",
       "    </tr>\n",
       "    <tr>\n",
       "      <th>4</th>\n",
       "      <td>15701354</td>\n",
       "      <td>Boni</td>\n",
       "      <td>699</td>\n",
       "      <td>FRA</td>\n",
       "      <td>Female</td>\n",
       "      <td>39.0</td>\n",
       "      <td>1</td>\n",
       "      <td>€93826.63</td>\n",
       "      <td>€0.0</td>\n",
       "      <td>2</td>\n",
       "      <td>No</td>\n",
       "      <td>No</td>\n",
       "      <td>0</td>\n",
       "    </tr>\n",
       "  </tbody>\n",
       "</table>\n",
       "</div>"
      ],
      "text/plain": [
       "   CustomerId   Surname  CreditScore Geography  Gender   Age  Tenure  \\\n",
       "0    15634602  Hargrave          619       FRA  Female  42.0       2   \n",
       "1    15634602  Hargrave          619       FRA  Female  42.0       2   \n",
       "2    15647311      Hill          608     Spain  Female  41.0       1   \n",
       "3    15619304      Onio          502    French  Female  42.0       8   \n",
       "4    15701354      Boni          699       FRA  Female  39.0       1   \n",
       "\n",
       "  EstimatedSalary    Balance  NumOfProducts HasCrCard IsActiveMember  Exited  \n",
       "0      €101348.88       €0.0              1       Yes            Yes       1  \n",
       "1      €101348.88       €0.0              1       Yes            Yes       1  \n",
       "2      €112542.58  €83807.86              1       Yes            Yes       0  \n",
       "3      €113931.57  €159660.8              3        No             No       1  \n",
       "4       €93826.63       €0.0              2        No             No       0  "
      ]
     },
     "execution_count": 3,
     "metadata": {},
     "output_type": "execute_result"
    }
   ],
   "source": [
    "df = pd.merge(customer_df, acc_df, how='inner', on=['CustomerId','Tenure'])\n",
    "df.head()"
   ]
  },
  {
   "cell_type": "code",
   "execution_count": 4,
   "id": "d53d2a3a",
   "metadata": {},
   "outputs": [
    {
     "data": {
      "text/plain": [
       "(10004, 13)"
      ]
     },
     "execution_count": 4,
     "metadata": {},
     "output_type": "execute_result"
    }
   ],
   "source": [
    "df.shape"
   ]
  },
  {
   "cell_type": "code",
   "execution_count": 5,
   "id": "bd444e6a",
   "metadata": {},
   "outputs": [
    {
     "name": "stdout",
     "output_type": "stream",
     "text": [
      "<class 'pandas.core.frame.DataFrame'>\n",
      "RangeIndex: 10004 entries, 0 to 10003\n",
      "Data columns (total 13 columns):\n",
      " #   Column           Non-Null Count  Dtype  \n",
      "---  ------           --------------  -----  \n",
      " 0   CustomerId       10004 non-null  int64  \n",
      " 1   Surname          10001 non-null  object \n",
      " 2   CreditScore      10004 non-null  int64  \n",
      " 3   Geography        10004 non-null  object \n",
      " 4   Gender           10004 non-null  object \n",
      " 5   Age              10001 non-null  float64\n",
      " 6   Tenure           10004 non-null  int64  \n",
      " 7   EstimatedSalary  10004 non-null  object \n",
      " 8   Balance          10004 non-null  object \n",
      " 9   NumOfProducts    10004 non-null  int64  \n",
      " 10  HasCrCard        10004 non-null  object \n",
      " 11  IsActiveMember   10004 non-null  object \n",
      " 12  Exited           10004 non-null  int64  \n",
      "dtypes: float64(1), int64(5), object(7)\n",
      "memory usage: 1016.2+ KB\n"
     ]
    }
   ],
   "source": [
    "df.info()"
   ]
  },
  {
   "cell_type": "code",
   "execution_count": 6,
   "id": "05d4cfde",
   "metadata": {},
   "outputs": [
    {
     "data": {
      "text/html": [
       "<div>\n",
       "<style scoped>\n",
       "    .dataframe tbody tr th:only-of-type {\n",
       "        vertical-align: middle;\n",
       "    }\n",
       "\n",
       "    .dataframe tbody tr th {\n",
       "        vertical-align: top;\n",
       "    }\n",
       "\n",
       "    .dataframe thead th {\n",
       "        text-align: right;\n",
       "    }\n",
       "</style>\n",
       "<table border=\"1\" class=\"dataframe\">\n",
       "  <thead>\n",
       "    <tr style=\"text-align: right;\">\n",
       "      <th></th>\n",
       "      <th>CreditScore</th>\n",
       "      <th>Geography</th>\n",
       "      <th>Gender</th>\n",
       "      <th>Age</th>\n",
       "      <th>Tenure</th>\n",
       "      <th>EstimatedSalary</th>\n",
       "      <th>Balance</th>\n",
       "      <th>NumOfProducts</th>\n",
       "      <th>HasCrCard</th>\n",
       "      <th>IsActiveMember</th>\n",
       "      <th>Exited</th>\n",
       "    </tr>\n",
       "  </thead>\n",
       "  <tbody>\n",
       "    <tr>\n",
       "      <th>0</th>\n",
       "      <td>619</td>\n",
       "      <td>FRA</td>\n",
       "      <td>Female</td>\n",
       "      <td>42.0</td>\n",
       "      <td>2</td>\n",
       "      <td>€101348.88</td>\n",
       "      <td>€0.0</td>\n",
       "      <td>1</td>\n",
       "      <td>Yes</td>\n",
       "      <td>Yes</td>\n",
       "      <td>1</td>\n",
       "    </tr>\n",
       "    <tr>\n",
       "      <th>1</th>\n",
       "      <td>619</td>\n",
       "      <td>FRA</td>\n",
       "      <td>Female</td>\n",
       "      <td>42.0</td>\n",
       "      <td>2</td>\n",
       "      <td>€101348.88</td>\n",
       "      <td>€0.0</td>\n",
       "      <td>1</td>\n",
       "      <td>Yes</td>\n",
       "      <td>Yes</td>\n",
       "      <td>1</td>\n",
       "    </tr>\n",
       "    <tr>\n",
       "      <th>2</th>\n",
       "      <td>608</td>\n",
       "      <td>Spain</td>\n",
       "      <td>Female</td>\n",
       "      <td>41.0</td>\n",
       "      <td>1</td>\n",
       "      <td>€112542.58</td>\n",
       "      <td>€83807.86</td>\n",
       "      <td>1</td>\n",
       "      <td>Yes</td>\n",
       "      <td>Yes</td>\n",
       "      <td>0</td>\n",
       "    </tr>\n",
       "    <tr>\n",
       "      <th>3</th>\n",
       "      <td>502</td>\n",
       "      <td>French</td>\n",
       "      <td>Female</td>\n",
       "      <td>42.0</td>\n",
       "      <td>8</td>\n",
       "      <td>€113931.57</td>\n",
       "      <td>€159660.8</td>\n",
       "      <td>3</td>\n",
       "      <td>No</td>\n",
       "      <td>No</td>\n",
       "      <td>1</td>\n",
       "    </tr>\n",
       "    <tr>\n",
       "      <th>4</th>\n",
       "      <td>699</td>\n",
       "      <td>FRA</td>\n",
       "      <td>Female</td>\n",
       "      <td>39.0</td>\n",
       "      <td>1</td>\n",
       "      <td>€93826.63</td>\n",
       "      <td>€0.0</td>\n",
       "      <td>2</td>\n",
       "      <td>No</td>\n",
       "      <td>No</td>\n",
       "      <td>0</td>\n",
       "    </tr>\n",
       "  </tbody>\n",
       "</table>\n",
       "</div>"
      ],
      "text/plain": [
       "   CreditScore Geography  Gender   Age  Tenure EstimatedSalary    Balance  \\\n",
       "0          619       FRA  Female  42.0       2      €101348.88       €0.0   \n",
       "1          619       FRA  Female  42.0       2      €101348.88       €0.0   \n",
       "2          608     Spain  Female  41.0       1      €112542.58  €83807.86   \n",
       "3          502    French  Female  42.0       8      €113931.57  €159660.8   \n",
       "4          699       FRA  Female  39.0       1       €93826.63       €0.0   \n",
       "\n",
       "   NumOfProducts HasCrCard IsActiveMember  Exited  \n",
       "0              1       Yes            Yes       1  \n",
       "1              1       Yes            Yes       1  \n",
       "2              1       Yes            Yes       0  \n",
       "3              3        No             No       1  \n",
       "4              2        No             No       0  "
      ]
     },
     "execution_count": 6,
     "metadata": {},
     "output_type": "execute_result"
    }
   ],
   "source": [
    "df = df.drop(columns=['CustomerId','Surname'])\n",
    "df.head()"
   ]
  },
  {
   "cell_type": "code",
   "execution_count": 7,
   "id": "a3504376",
   "metadata": {},
   "outputs": [],
   "source": [
    "for i in range(len(df)):\n",
    "    df['EstimatedSalary'][i] = df['EstimatedSalary'][i].replace('€','')\n",
    "    df['Balance'][i] = df['Balance'][i].replace('€','')"
   ]
  },
  {
   "cell_type": "code",
   "execution_count": 8,
   "id": "995a4ddf",
   "metadata": {},
   "outputs": [
    {
     "data": {
      "text/html": [
       "<div>\n",
       "<style scoped>\n",
       "    .dataframe tbody tr th:only-of-type {\n",
       "        vertical-align: middle;\n",
       "    }\n",
       "\n",
       "    .dataframe tbody tr th {\n",
       "        vertical-align: top;\n",
       "    }\n",
       "\n",
       "    .dataframe thead th {\n",
       "        text-align: right;\n",
       "    }\n",
       "</style>\n",
       "<table border=\"1\" class=\"dataframe\">\n",
       "  <thead>\n",
       "    <tr style=\"text-align: right;\">\n",
       "      <th></th>\n",
       "      <th>CreditScore</th>\n",
       "      <th>Geography</th>\n",
       "      <th>Gender</th>\n",
       "      <th>Age</th>\n",
       "      <th>Tenure</th>\n",
       "      <th>EstimatedSalary</th>\n",
       "      <th>Balance</th>\n",
       "      <th>NumOfProducts</th>\n",
       "      <th>HasCrCard</th>\n",
       "      <th>IsActiveMember</th>\n",
       "      <th>Exited</th>\n",
       "    </tr>\n",
       "  </thead>\n",
       "  <tbody>\n",
       "    <tr>\n",
       "      <th>0</th>\n",
       "      <td>619</td>\n",
       "      <td>FRA</td>\n",
       "      <td>Female</td>\n",
       "      <td>42.0</td>\n",
       "      <td>2</td>\n",
       "      <td>101348.88</td>\n",
       "      <td>0.0</td>\n",
       "      <td>1</td>\n",
       "      <td>Yes</td>\n",
       "      <td>Yes</td>\n",
       "      <td>1</td>\n",
       "    </tr>\n",
       "    <tr>\n",
       "      <th>1</th>\n",
       "      <td>619</td>\n",
       "      <td>FRA</td>\n",
       "      <td>Female</td>\n",
       "      <td>42.0</td>\n",
       "      <td>2</td>\n",
       "      <td>101348.88</td>\n",
       "      <td>0.0</td>\n",
       "      <td>1</td>\n",
       "      <td>Yes</td>\n",
       "      <td>Yes</td>\n",
       "      <td>1</td>\n",
       "    </tr>\n",
       "    <tr>\n",
       "      <th>2</th>\n",
       "      <td>608</td>\n",
       "      <td>Spain</td>\n",
       "      <td>Female</td>\n",
       "      <td>41.0</td>\n",
       "      <td>1</td>\n",
       "      <td>112542.58</td>\n",
       "      <td>83807.86</td>\n",
       "      <td>1</td>\n",
       "      <td>Yes</td>\n",
       "      <td>Yes</td>\n",
       "      <td>0</td>\n",
       "    </tr>\n",
       "    <tr>\n",
       "      <th>3</th>\n",
       "      <td>502</td>\n",
       "      <td>French</td>\n",
       "      <td>Female</td>\n",
       "      <td>42.0</td>\n",
       "      <td>8</td>\n",
       "      <td>113931.57</td>\n",
       "      <td>159660.8</td>\n",
       "      <td>3</td>\n",
       "      <td>No</td>\n",
       "      <td>No</td>\n",
       "      <td>1</td>\n",
       "    </tr>\n",
       "    <tr>\n",
       "      <th>4</th>\n",
       "      <td>699</td>\n",
       "      <td>FRA</td>\n",
       "      <td>Female</td>\n",
       "      <td>39.0</td>\n",
       "      <td>1</td>\n",
       "      <td>93826.63</td>\n",
       "      <td>0.0</td>\n",
       "      <td>2</td>\n",
       "      <td>No</td>\n",
       "      <td>No</td>\n",
       "      <td>0</td>\n",
       "    </tr>\n",
       "  </tbody>\n",
       "</table>\n",
       "</div>"
      ],
      "text/plain": [
       "   CreditScore Geography  Gender   Age  Tenure EstimatedSalary   Balance  \\\n",
       "0          619       FRA  Female  42.0       2       101348.88       0.0   \n",
       "1          619       FRA  Female  42.0       2       101348.88       0.0   \n",
       "2          608     Spain  Female  41.0       1       112542.58  83807.86   \n",
       "3          502    French  Female  42.0       8       113931.57  159660.8   \n",
       "4          699       FRA  Female  39.0       1        93826.63       0.0   \n",
       "\n",
       "   NumOfProducts HasCrCard IsActiveMember  Exited  \n",
       "0              1       Yes            Yes       1  \n",
       "1              1       Yes            Yes       1  \n",
       "2              1       Yes            Yes       0  \n",
       "3              3        No             No       1  \n",
       "4              2        No             No       0  "
      ]
     },
     "execution_count": 8,
     "metadata": {},
     "output_type": "execute_result"
    }
   ],
   "source": [
    "df.head()"
   ]
  },
  {
   "cell_type": "code",
   "execution_count": 9,
   "id": "da5295b9",
   "metadata": {},
   "outputs": [
    {
     "name": "stdout",
     "output_type": "stream",
     "text": [
      "<class 'pandas.core.frame.DataFrame'>\n",
      "RangeIndex: 10004 entries, 0 to 10003\n",
      "Data columns (total 11 columns):\n",
      " #   Column           Non-Null Count  Dtype  \n",
      "---  ------           --------------  -----  \n",
      " 0   CreditScore      10004 non-null  int64  \n",
      " 1   Geography        10004 non-null  object \n",
      " 2   Gender           10004 non-null  object \n",
      " 3   Age              10001 non-null  float64\n",
      " 4   Tenure           10004 non-null  int64  \n",
      " 5   EstimatedSalary  10004 non-null  float64\n",
      " 6   Balance          10004 non-null  float64\n",
      " 7   NumOfProducts    10004 non-null  int64  \n",
      " 8   HasCrCard        10004 non-null  object \n",
      " 9   IsActiveMember   10004 non-null  object \n",
      " 10  Exited           10004 non-null  int64  \n",
      "dtypes: float64(3), int64(4), object(4)\n",
      "memory usage: 859.8+ KB\n"
     ]
    }
   ],
   "source": [
    "df['EstimatedSalary'] = df['EstimatedSalary'].astype(float)\n",
    "df['Balance'] = df['Balance'].astype(float)\n",
    "df.info()"
   ]
  },
  {
   "cell_type": "code",
   "execution_count": 10,
   "id": "30da0a43",
   "metadata": {},
   "outputs": [
    {
     "data": {
      "text/html": [
       "<div>\n",
       "<style scoped>\n",
       "    .dataframe tbody tr th:only-of-type {\n",
       "        vertical-align: middle;\n",
       "    }\n",
       "\n",
       "    .dataframe tbody tr th {\n",
       "        vertical-align: top;\n",
       "    }\n",
       "\n",
       "    .dataframe thead th {\n",
       "        text-align: right;\n",
       "    }\n",
       "</style>\n",
       "<table border=\"1\" class=\"dataframe\">\n",
       "  <thead>\n",
       "    <tr style=\"text-align: right;\">\n",
       "      <th></th>\n",
       "      <th>CreditScore</th>\n",
       "      <th>Age</th>\n",
       "      <th>Tenure</th>\n",
       "      <th>EstimatedSalary</th>\n",
       "      <th>Balance</th>\n",
       "      <th>NumOfProducts</th>\n",
       "      <th>Exited</th>\n",
       "    </tr>\n",
       "  </thead>\n",
       "  <tbody>\n",
       "    <tr>\n",
       "      <th>count</th>\n",
       "      <td>10004.000000</td>\n",
       "      <td>10001.000000</td>\n",
       "      <td>10004.000000</td>\n",
       "      <td>10004.000000</td>\n",
       "      <td>10004.000000</td>\n",
       "      <td>10004.000000</td>\n",
       "      <td>10004.000000</td>\n",
       "    </tr>\n",
       "    <tr>\n",
       "      <th>mean</th>\n",
       "      <td>650.568073</td>\n",
       "      <td>38.919108</td>\n",
       "      <td>5.012195</td>\n",
       "      <td>99743.889855</td>\n",
       "      <td>76494.334391</td>\n",
       "      <td>1.529988</td>\n",
       "      <td>0.203719</td>\n",
       "    </tr>\n",
       "    <tr>\n",
       "      <th>std</th>\n",
       "      <td>96.665531</td>\n",
       "      <td>10.488725</td>\n",
       "      <td>2.891806</td>\n",
       "      <td>60581.133136</td>\n",
       "      <td>62396.534285</td>\n",
       "      <td>0.581635</td>\n",
       "      <td>0.402782</td>\n",
       "    </tr>\n",
       "    <tr>\n",
       "      <th>min</th>\n",
       "      <td>350.000000</td>\n",
       "      <td>18.000000</td>\n",
       "      <td>0.000000</td>\n",
       "      <td>-999999.000000</td>\n",
       "      <td>0.000000</td>\n",
       "      <td>1.000000</td>\n",
       "      <td>0.000000</td>\n",
       "    </tr>\n",
       "    <tr>\n",
       "      <th>25%</th>\n",
       "      <td>584.000000</td>\n",
       "      <td>32.000000</td>\n",
       "      <td>3.000000</td>\n",
       "      <td>50904.965000</td>\n",
       "      <td>0.000000</td>\n",
       "      <td>1.000000</td>\n",
       "      <td>0.000000</td>\n",
       "    </tr>\n",
       "    <tr>\n",
       "      <th>50%</th>\n",
       "      <td>652.000000</td>\n",
       "      <td>37.000000</td>\n",
       "      <td>5.000000</td>\n",
       "      <td>100168.240000</td>\n",
       "      <td>97221.520000</td>\n",
       "      <td>1.000000</td>\n",
       "      <td>0.000000</td>\n",
       "    </tr>\n",
       "    <tr>\n",
       "      <th>75%</th>\n",
       "      <td>718.000000</td>\n",
       "      <td>44.000000</td>\n",
       "      <td>7.000000</td>\n",
       "      <td>149382.097500</td>\n",
       "      <td>127656.530000</td>\n",
       "      <td>2.000000</td>\n",
       "      <td>0.000000</td>\n",
       "    </tr>\n",
       "    <tr>\n",
       "      <th>max</th>\n",
       "      <td>850.000000</td>\n",
       "      <td>92.000000</td>\n",
       "      <td>10.000000</td>\n",
       "      <td>199992.480000</td>\n",
       "      <td>250898.090000</td>\n",
       "      <td>4.000000</td>\n",
       "      <td>1.000000</td>\n",
       "    </tr>\n",
       "  </tbody>\n",
       "</table>\n",
       "</div>"
      ],
      "text/plain": [
       "        CreditScore           Age        Tenure  EstimatedSalary  \\\n",
       "count  10004.000000  10001.000000  10004.000000     10004.000000   \n",
       "mean     650.568073     38.919108      5.012195     99743.889855   \n",
       "std       96.665531     10.488725      2.891806     60581.133136   \n",
       "min      350.000000     18.000000      0.000000   -999999.000000   \n",
       "25%      584.000000     32.000000      3.000000     50904.965000   \n",
       "50%      652.000000     37.000000      5.000000    100168.240000   \n",
       "75%      718.000000     44.000000      7.000000    149382.097500   \n",
       "max      850.000000     92.000000     10.000000    199992.480000   \n",
       "\n",
       "             Balance  NumOfProducts        Exited  \n",
       "count   10004.000000   10004.000000  10004.000000  \n",
       "mean    76494.334391       1.529988      0.203719  \n",
       "std     62396.534285       0.581635      0.402782  \n",
       "min         0.000000       1.000000      0.000000  \n",
       "25%         0.000000       1.000000      0.000000  \n",
       "50%     97221.520000       1.000000      0.000000  \n",
       "75%    127656.530000       2.000000      0.000000  \n",
       "max    250898.090000       4.000000      1.000000  "
      ]
     },
     "execution_count": 10,
     "metadata": {},
     "output_type": "execute_result"
    }
   ],
   "source": [
    "df.describe()"
   ]
  },
  {
   "cell_type": "code",
   "execution_count": 11,
   "id": "7a635275",
   "metadata": {},
   "outputs": [
    {
     "data": {
      "text/plain": [
       "Geography\n",
       "Germany    2509\n",
       "Spain      2477\n",
       "France     1741\n",
       "French     1658\n",
       "FRA        1619\n",
       "Name: count, dtype: int64"
      ]
     },
     "execution_count": 11,
     "metadata": {},
     "output_type": "execute_result"
    }
   ],
   "source": [
    "df['Geography'].value_counts()"
   ]
  },
  {
   "cell_type": "code",
   "execution_count": 12,
   "id": "35a5ed16",
   "metadata": {},
   "outputs": [
    {
     "data": {
      "text/plain": [
       "Geography\n",
       "France     5018\n",
       "Germany    2509\n",
       "Spain      2477\n",
       "Name: count, dtype: int64"
      ]
     },
     "execution_count": 12,
     "metadata": {},
     "output_type": "execute_result"
    }
   ],
   "source": [
    "df['Geography'] = df['Geography'].apply(lambda x:'France' if x=='French' else x)\n",
    "df['Geography'] = df['Geography'].apply(lambda x:'France' if x=='FRA' else x)\n",
    "\n",
    "df['Geography'].value_counts()"
   ]
  },
  {
   "cell_type": "code",
   "execution_count": 13,
   "id": "3a939ca6",
   "metadata": {},
   "outputs": [
    {
     "data": {
      "text/plain": [
       "EstimatedSalary\n",
       " 38190.78     4\n",
       "-999999.00    3\n",
       " 24924.92     2\n",
       " 101348.88    2\n",
       " 79084.10     1\n",
       "             ..\n",
       " 4523.74      1\n",
       " 102195.16    1\n",
       " 60843.09     1\n",
       " 25548.47     1\n",
       " 93112.20     1\n",
       "Name: count, Length: 9997, dtype: int64"
      ]
     },
     "execution_count": 13,
     "metadata": {},
     "output_type": "execute_result"
    }
   ],
   "source": [
    "df['EstimatedSalary'].value_counts()"
   ]
  },
  {
   "cell_type": "code",
   "execution_count": 14,
   "id": "041ed676",
   "metadata": {},
   "outputs": [
    {
     "data": {
      "text/plain": [
       "EstimatedSalary\n",
       "38190.78     4\n",
       "999999.00    3\n",
       "24924.92     2\n",
       "101348.88    2\n",
       "79084.10     1\n",
       "            ..\n",
       "4523.74      1\n",
       "102195.16    1\n",
       "60843.09     1\n",
       "25548.47     1\n",
       "93112.20     1\n",
       "Name: count, Length: 9997, dtype: int64"
      ]
     },
     "execution_count": 14,
     "metadata": {},
     "output_type": "execute_result"
    }
   ],
   "source": [
    "df['EstimatedSalary'] = df['EstimatedSalary'].astype(str)\n",
    "\n",
    "df['EstimatedSalary'] = df['EstimatedSalary'].str.replace('-','',regex=True)\n",
    "df['EstimatedSalary'] = df['EstimatedSalary'].astype(float)\n",
    "df['EstimatedSalary'].value_counts()"
   ]
  },
  {
   "cell_type": "code",
   "execution_count": 17,
   "id": "e94e8de9",
   "metadata": {},
   "outputs": [
    {
     "data": {
      "image/png": "[encoded data removed]",
      "text/plain": [
       "<Figure size 1200x600 with 4 Axes>"
      ]
     },
     "metadata": {},
     "output_type": "display_data"
    }
   ],
   "source": [
    "plt.figure(figsize=(12, 6))\n",
    "\n",
    "plt.subplot(2, 2, 1)\n",
    "sns.countplot(x='Geography', data=df, stat='percent', palette='Set2')\n",
    "plt.title('Geography Distribution')\n",
    "\n",
    "plt.subplot(2, 2, 2)\n",
    "sns.countplot(x='Gender', data=df, stat='percent', palette='Set2')\n",
    "plt.title('Gender Distribution')\n",
    "\n",
    "plt.subplot(2, 2, 3)\n",
    "sns.countplot(x='HasCrCard', data=df, stat='percent', palette='Set1')\n",
    "plt.title('Has Credit Card Distribution')\n",
    "\n",
    "plt.subplot(2, 2, 4)\n",
    "sns.countplot(x='IsActiveMember', data=df, stat='percent', palette='Set1')\n",
    "plt.title('Is Active Member Distribution')\n",
    "\n",
    "plt.tight_layout()\n",
    "plt.show()"
   ]
  },
  {
   "cell_type": "code",
   "execution_count": 18,
   "id": "163af22d",
   "metadata": {},
   "outputs": [
    {
     "name": "stdout",
     "output_type": "stream",
     "text": [
      "Exited\n",
      "0    7966\n",
      "1    2038\n",
      "Name: count, dtype: int64\n"
     ]
    }
   ],
   "source": [
    "print(df['Exited'].value_counts())"
   ]
  },
  {
   "cell_type": "code",
   "execution_count": 19,
   "id": "3b854217",
   "metadata": {},
   "outputs": [
    {
     "data": {
      "image/png": "[encoded data removed]",
      "text/plain": [
       "<Figure size 640x480 with 1 Axes>"
      ]
     },
     "metadata": {},
     "output_type": "display_data"
    },
    {
     "data": {
      "image/png": "[encoded data removed]",
      "text/plain": [
       "<Figure size 640x480 with 1 Axes>"
      ]
     },
     "metadata": {},
     "output_type": "display_data"
    },
    {
     "data": {
      "image/png": "[encoded data removed]",
      "text/plain": [
       "<Figure size 640x480 with 1 Axes>"
      ]
     },
     "metadata": {},
     "output_type": "display_data"
    },
    {
     "data": {
      "image/png": "[encoded data removed]",
      "text/plain": [
       "<Figure size 640x480 with 1 Axes>"
      ]
     },
     "metadata": {},
     "output_type": "display_data"
    }
   ],
   "source": [
    "for i in ['Age','CreditScore','Balance','EstimatedSalary']:\n",
    "    sns.histplot(df[i], kde=True, bins=30, color='blue')\n",
    "    plt.title(i + ' Distribution')\n",
    "    plt.show()"
   ]
  },
  {
   "cell_type": "code",
   "execution_count": 20,
   "id": "5afc30c0",
   "metadata": {},
   "outputs": [
    {
     "data": {
      "image/png": "[encoded data removed]",
      "text/plain": [
       "<Figure size 800x600 with 1 Axes>"
      ]
     },
     "metadata": {},
     "output_type": "display_data"
    }
   ],
   "source": [
    "product_churn = pd.crosstab(df['NumOfProducts'], df['Exited'])\n",
    "\n",
    "product_churn.plot(kind='bar', stacked=True, figsize=(8, 6))\n",
    "plt.title('Stacked Bar Chart - Multiple Product Usage vs Churn')\n",
    "plt.xlabel('Multiple Product Usage')\n",
    "plt.ylabel('Number of Customers')\n",
    "plt.legend(title='Exited',labels=['No','Yes'])\n",
    "plt.grid(True)\n",
    "plt.show()\n"
   ]
  },
  {
   "cell_type": "code",
   "execution_count": 21,
   "id": "62502c88",
   "metadata": {},
   "outputs": [
    {
     "data": {
      "image/png": "[encoded data removed]",
      "text/plain": [
       "<Figure size 1000x600 with 1 Axes>"
      ]
     },
     "metadata": {},
     "output_type": "display_data"
    }
   ],
   "source": [
    "region_gender_churn = df.groupby(['Geography', 'Gender'])['Exited'].mean().reset_index()\n",
    "\n",
    "plt.figure(figsize=(10, 6))\n",
    "sns.barplot(x='Geography', y='Exited', hue='Gender', data=region_gender_churn)\n",
    "plt.title('Churn Rate by Region and Gender')\n",
    "plt.xlabel('Region')\n",
    "plt.ylabel('Churn Rate')\n",
    "plt.ylim(0, 1)\n",
    "plt.grid(True)\n",
    "plt.legend(title='Gender')\n",
    "plt.show()"
   ]
  },
  {
   "cell_type": "code",
   "execution_count": 22,
   "id": "159da0c0",
   "metadata": {},
   "outputs": [
    {
     "data": {
      "image/png": "[encoded data removed]",
      "text/plain": [
       "<Figure size 800x600 with 1 Axes>"
      ]
     },
     "metadata": {},
     "output_type": "display_data"
    }
   ],
   "source": [
    "plt.figure(figsize=(8, 6))\n",
    "sns.stripplot(x='Exited', y='Age', data=df, jitter=True, palette='Set2')\n",
    "plt.title('Individual Age Points by Churn')\n",
    "plt.xlabel('Churn')\n",
    "plt.ylabel('Age')\n",
    "plt.grid(True)\n",
    "plt.show()\n"
   ]
  },
  {
   "cell_type": "markdown",
   "id": "2bc0aafc",
   "metadata": {},
   "source": [
    "# Data Preprocessing"
   ]
  },
  {
   "cell_type": "code",
   "execution_count": 41,
   "id": "a82e91d3",
   "metadata": {},
   "outputs": [],
   "source": [
    "numerical = []\n",
    "categorical = []\n",
    "for col in df.columns:\n",
    "    if df[col].dtype == 'object':\n",
    "        categorical.append(col)\n",
    "    else:\n",
    "        numerical.append(col)"
   ]
  },
  {
   "cell_type": "code",
   "execution_count": 42,
   "id": "0212ffd8",
   "metadata": {},
   "outputs": [],
   "source": [
    "if df.duplicated().sum() > 0:\n",
    "    print(f\"DataFrame has {df.duplicated().sum()} duplicate rows\")\n",
    "    df = df.drop_duplicates()\n",
    "    print(f\"DataFrame has {df.duplicated().sum()} duplicate rows after dropping duplicates\")"
   ]
  },
  {
   "cell_type": "code",
   "execution_count": 43,
   "id": "65fe8a46",
   "metadata": {},
   "outputs": [],
   "source": [
    "for col in df.columns:\n",
    "    if df[col].isnull().sum() > 0:\n",
    "        if df[col].dtype == 'object':\n",
    "            print(f\"Column {col} has {df[col].isnull().sum()} missing values\")\n",
    "            df[col] = df[col].fillna(df[col].mode()[0])\n",
    "        else:\n",
    "            print(f\"Column {col} has {df[col].isnull().sum()} missing values\")\n",
    "            df[col] = df[col].fillna(round(df[col].mean()))\n",
    "            print(f\"Column {col} has been filled with mean value: {round(df[col].mean())}\")"
   ]
  },
  {
   "cell_type": "code",
   "execution_count": 44,
   "id": "bb2bfd00",
   "metadata": {},
   "outputs": [],
   "source": [
    "def outliers(df):\n",
    "    for col in df.columns:\n",
    "        if col in numerical[:-1]:\n",
    "            q1 = df[col].quantile(0.25)\n",
    "            q3 = df[col].quantile(0.75)\n",
    "            iqr = q3 - q1\n",
    "            lower_bound = q1 - 1.5 * iqr\n",
    "            upper_bound = q3 + 1.5 * iqr\n",
    "            outliers = df[(df[col] < lower_bound) | (df[col] > upper_bound)][col]\n",
    "            print(f\"Column {col} has {len(outliers)} outliers\")\n",
    "            if outliers.shape[0] > 0:\n",
    "                df[col] = df[col].clip(lower_bound, upper_bound)\n",
    "                print(f\"Outliers in column {col} have been clipped to the lower and upper bounds\")\n",
    "    return df"
   ]
  },
  {
   "cell_type": "code",
   "execution_count": 45,
   "id": "95eea38f",
   "metadata": {},
   "outputs": [
    {
     "name": "stdout",
     "output_type": "stream",
     "text": [
      "Column CreditScore has 0 outliers\n",
      "Column Age has 0 outliers\n",
      "Column Tenure has 0 outliers\n",
      "Column EstimatedSalary has 0 outliers\n",
      "Column Balance has 0 outliers\n",
      "Column NumOfProducts has 0 outliers\n"
     ]
    }
   ],
   "source": [
    "df_cleaned = outliers(df)"
   ]
  },
  {
   "cell_type": "code",
   "execution_count": 46,
   "id": "1e1162c4",
   "metadata": {},
   "outputs": [],
   "source": [
    "from sklearn.model_selection import train_test_split\n",
    "\n",
    "X, y = df_cleaned.drop(columns=['Exited']), df_cleaned['Exited']\n",
    "X_train, X_test, y_train, y_test = train_test_split(X, y, test_size=0.2, random_state=42)"
   ]
  },
  {
   "cell_type": "code",
   "execution_count": 47,
   "id": "f7276816",
   "metadata": {},
   "outputs": [
    {
     "data": {
      "text/plain": [
       "['ohe_encoder.pkl']"
      ]
     },
     "execution_count": 47,
     "metadata": {},
     "output_type": "execute_result"
    }
   ],
   "source": [
    "from sklearn.preprocessing import OneHotEncoder\n",
    "\n",
    "ohe = OneHotEncoder(sparse_output=False,drop='first', handle_unknown='ignore')\n",
    "\n",
    "X_train_encoded = ohe.fit_transform(X_train[categorical])\n",
    "X_test_encoded = ohe.transform(X_test[categorical])\n",
    "\n",
    "ohe_columns = ohe.get_feature_names_out(categorical)\n",
    "X_train_ohe_df = pd.DataFrame(X_train_encoded, columns=ohe_columns, index=X_train.index)\n",
    "X_test_ohe_df = pd.DataFrame(X_test_encoded, columns=ohe_columns, index=X_test.index)\n",
    "\n",
    "X_train_ohe = pd.concat([X_train.drop(categorical, axis=1), X_train_ohe_df], axis=1)\n",
    "X_test_ohe = pd.concat([X_test.drop(categorical, axis=1), X_test_ohe_df], axis=1)\n",
    "\n",
    "joblib.dump(ohe, 'ohe_encoder.pkl')"
   ]
  },
  {
   "cell_type": "code",
   "execution_count": 48,
   "id": "b73f11d1",
   "metadata": {},
   "outputs": [
    {
     "data": {
      "text/plain": [
       "['scaler_std.pkl']"
      ]
     },
     "execution_count": 48,
     "metadata": {},
     "output_type": "execute_result"
    }
   ],
   "source": [
    "from sklearn.preprocessing import StandardScaler\n",
    "\n",
    "X_train_std = X_train_ohe.copy()\n",
    "X_test_std = X_test_ohe.copy()\n",
    "\n",
    "std = StandardScaler()\n",
    "\n",
    "\n",
    "X_train_std = std.fit_transform(X_train_std)\n",
    "X_test_std = std.transform(X_test_std)\n",
    "\n",
    "joblib.dump(std, 'scaler_std.pkl')\n"
   ]
  },
  {
   "cell_type": "code",
   "execution_count": 49,
   "id": "dfabd4ca",
   "metadata": {},
   "outputs": [
    {
     "data": {
      "text/plain": [
       "Exited\n",
       "0    79.63\n",
       "1    20.37\n",
       "Name: count, dtype: float64"
      ]
     },
     "execution_count": 49,
     "metadata": {},
     "output_type": "execute_result"
    }
   ],
   "source": [
    "df['Exited'].value_counts()*100/df.shape[0]"
   ]
  },
  {
   "cell_type": "code",
   "execution_count": 50,
   "id": "d9fd0dbf",
   "metadata": {},
   "outputs": [],
   "source": [
    "from imblearn.combine import SMOTETomek\n",
    "from imblearn.over_sampling import SMOTE\n",
    "smote = SMOTETomek(random_state=42)\n",
    "X_train_resampled, y_train_resampled = smote.fit_resample(X_train_std, y_train)"
   ]
  },
  {
   "cell_type": "markdown",
   "id": "010ca12b",
   "metadata": {},
   "source": [
    "# Model Selection"
   ]
  },
  {
   "cell_type": "code",
   "execution_count": 51,
   "id": "c7dcbfc7",
   "metadata": {},
   "outputs": [],
   "source": [
    "from sklearn.ensemble import RandomForestClassifier, GradientBoostingClassifier, BaggingClassifier\n",
    "from xgboost import XGBClassifier\n",
    "from sklearn.linear_model import LogisticRegression\n",
    "from sklearn.tree import DecisionTreeClassifier\n",
    "from sklearn.neighbors import KNeighborsClassifier\n",
    "from sklearn.svm import SVC\n",
    "from sklearn.naive_bayes import GaussianNB, BernoulliNB\n",
    "from imblearn.ensemble import BalancedRandomForestClassifier\n",
    "from sklearn.model_selection import cross_val_score\n",
    "from sklearn.metrics import classification_report, confusion_matrix, roc_auc_score, f1_score, precision_recall_curve, auc"
   ]
  },
  {
   "cell_type": "code",
   "execution_count": null,
   "id": "ef6ab7c3",
   "metadata": {},
   "outputs": [],
   "source": [
    "models = {\n",
    "        \"Random Forest\": RandomForestClassifier(max_depth=5, class_weight=\"balanced\", random_state=7,n_estimators=60),\n",
    "        \"Balanced RF\": BalancedRandomForestClassifier(max_depth=5, random_state=42),\n",
    "        \"XGBoost\": XGBClassifier(max_depth=3, scale_pos_weight=len(y_train_resampled[y_train_resampled==0])/len(y_train_resampled[y_train_resampled==1]), random_state=42),\n",
    "        \"Logistic Regression\": LogisticRegression(class_weight=\"balanced\", random_state=42),\n",
    "        'DecisionTree': DecisionTreeClassifier(class_weight='balanced'),\n",
    "        'Bagging': BaggingClassifier(),\n",
    "        'GradientBoosting': GradientBoostingClassifier(),\n",
    "        'SupportVector': SVC(probability=True),\n",
    "        'KNN': KNeighborsClassifier(),\n",
    "        'NaiveBayesGaussian': GaussianNB(),\n",
    "        'NaiveBayesBernoulli': BernoulliNB()\n",
    "    }"
   ]
  },
  {
   "cell_type": "code",
   "execution_count": 53,
   "id": "4080fadd",
   "metadata": {},
   "outputs": [],
   "source": [
    "from sklearn.model_selection import cross_val_score\n",
    "from sklearn.metrics import f1_score\n",
    "\n",
    "def evaluate_models(x_train, y_train, x_test, y_test, models):\n",
    "    list_met = []\n",
    "    list_creport = []\n",
    "    list_roc_auc = []\n",
    "    list_pr_auc = []\n",
    "    list_f1 = []\n",
    "    list_models = []\n",
    "\n",
    "    for name, model in models.items():\n",
    "        \n",
    "        model.fit(x_train, y_train)\n",
    "        y_pred = model.predict(x_test)\n",
    "        y_prob = model.predict_proba(x_test)[:, 1]\n",
    "\n",
    "        precision, recall, _ = precision_recall_curve(y_test, y_prob)\n",
    "        pr_auc = auc(recall, precision)\n",
    "        \n",
    "        \n",
    "        list_met.append(name)\n",
    "        list_roc_auc.append(roc_auc_score(y_test, y_prob))\n",
    "        list_pr_auc.append(pr_auc)\n",
    "        list_f1.append(f1_score(y_test, y_pred))\n",
    "        list_models.append(model)\n",
    "\n",
    "        \n",
    "    df_f1 = pd.DataFrame({\n",
    "        'Model': list_met,\n",
    "        'ROC-AUC': list_roc_auc,\n",
    "        'PR-AUC': list_pr_auc,\n",
    "        'F1 Score': list_f1\n",
    "    })\n",
    "\n",
    "    df_f1 = df_f1.sort_values(by='F1 Score', ascending=False).reset_index(drop=True)\n",
    "    \n",
    "    return df_f1, list_models\n"
   ]
  },
  {
   "cell_type": "code",
   "execution_count": 54,
   "id": "a58dce3d",
   "metadata": {},
   "outputs": [
    {
     "data": {
      "text/html": [
       "<div>\n",
       "<style scoped>\n",
       "    .dataframe tbody tr th:only-of-type {\n",
       "        vertical-align: middle;\n",
       "    }\n",
       "\n",
       "    .dataframe tbody tr th {\n",
       "        vertical-align: top;\n",
       "    }\n",
       "\n",
       "    .dataframe thead th {\n",
       "        text-align: right;\n",
       "    }\n",
       "</style>\n",
       "<table border=\"1\" class=\"dataframe\">\n",
       "  <thead>\n",
       "    <tr style=\"text-align: right;\">\n",
       "      <th></th>\n",
       "      <th>Model</th>\n",
       "      <th>ROC-AUC</th>\n",
       "      <th>PR-AUC</th>\n",
       "      <th>F1 Score</th>\n",
       "    </tr>\n",
       "  </thead>\n",
       "  <tbody>\n",
       "    <tr>\n",
       "      <th>0</th>\n",
       "      <td>GradientBoosting</td>\n",
       "      <td>0.862397</td>\n",
       "      <td>0.679740</td>\n",
       "      <td>0.635514</td>\n",
       "    </tr>\n",
       "    <tr>\n",
       "      <th>1</th>\n",
       "      <td>XGBoost</td>\n",
       "      <td>0.864253</td>\n",
       "      <td>0.688204</td>\n",
       "      <td>0.633245</td>\n",
       "    </tr>\n",
       "    <tr>\n",
       "      <th>2</th>\n",
       "      <td>Random Forest</td>\n",
       "      <td>0.857333</td>\n",
       "      <td>0.661704</td>\n",
       "      <td>0.605691</td>\n",
       "    </tr>\n",
       "    <tr>\n",
       "      <th>3</th>\n",
       "      <td>Balanced RF</td>\n",
       "      <td>0.855954</td>\n",
       "      <td>0.656386</td>\n",
       "      <td>0.601842</td>\n",
       "    </tr>\n",
       "    <tr>\n",
       "      <th>4</th>\n",
       "      <td>SupportVector</td>\n",
       "      <td>0.842116</td>\n",
       "      <td>0.640705</td>\n",
       "      <td>0.582329</td>\n",
       "    </tr>\n",
       "    <tr>\n",
       "      <th>5</th>\n",
       "      <td>Bagging</td>\n",
       "      <td>0.818021</td>\n",
       "      <td>0.592279</td>\n",
       "      <td>0.559899</td>\n",
       "    </tr>\n",
       "    <tr>\n",
       "      <th>6</th>\n",
       "      <td>NaiveBayesGaussian</td>\n",
       "      <td>0.809733</td>\n",
       "      <td>0.571467</td>\n",
       "      <td>0.526126</td>\n",
       "    </tr>\n",
       "    <tr>\n",
       "      <th>7</th>\n",
       "      <td>KNN</td>\n",
       "      <td>0.772493</td>\n",
       "      <td>0.547778</td>\n",
       "      <td>0.523438</td>\n",
       "    </tr>\n",
       "    <tr>\n",
       "      <th>8</th>\n",
       "      <td>Logistic Regression</td>\n",
       "      <td>0.788011</td>\n",
       "      <td>0.494632</td>\n",
       "      <td>0.509417</td>\n",
       "    </tr>\n",
       "    <tr>\n",
       "      <th>9</th>\n",
       "      <td>NaiveBayesBernoulli</td>\n",
       "      <td>0.788384</td>\n",
       "      <td>0.489243</td>\n",
       "      <td>0.491319</td>\n",
       "    </tr>\n",
       "    <tr>\n",
       "      <th>10</th>\n",
       "      <td>DecisionTree</td>\n",
       "      <td>0.684102</td>\n",
       "      <td>0.533051</td>\n",
       "      <td>0.482759</td>\n",
       "    </tr>\n",
       "  </tbody>\n",
       "</table>\n",
       "</div>"
      ],
      "text/plain": [
       "                  Model   ROC-AUC    PR-AUC  F1 Score\n",
       "0      GradientBoosting  0.862397  0.679740  0.635514\n",
       "1               XGBoost  0.864253  0.688204  0.633245\n",
       "2         Random Forest  0.857333  0.661704  0.605691\n",
       "3           Balanced RF  0.855954  0.656386  0.601842\n",
       "4         SupportVector  0.842116  0.640705  0.582329\n",
       "5               Bagging  0.818021  0.592279  0.559899\n",
       "6    NaiveBayesGaussian  0.809733  0.571467  0.526126\n",
       "7                   KNN  0.772493  0.547778  0.523438\n",
       "8   Logistic Regression  0.788011  0.494632  0.509417\n",
       "9   NaiveBayesBernoulli  0.788384  0.489243  0.491319\n",
       "10         DecisionTree  0.684102  0.533051  0.482759"
      ]
     },
     "execution_count": 54,
     "metadata": {},
     "output_type": "execute_result"
    }
   ],
   "source": [
    "df_f1, list_models = evaluate_models(X_train_resampled, y_train_resampled, X_test_std, y_test,models)\n",
    "df_f1"
   ]
  },
  {
   "cell_type": "markdown",
   "id": "9ea47148",
   "metadata": {},
   "source": [
    "# Hyperparameter Tuning and Threshold Optimization for GradientBoosting"
   ]
  },
  {
   "cell_type": "code",
   "execution_count": 55,
   "id": "1e1b04f4",
   "metadata": {},
   "outputs": [
    {
     "data": {
      "text/plain": [
       "[RandomForestClassifier(class_weight='balanced', max_depth=5, random_state=42),\n",
       " BalancedRandomForestClassifier(max_depth=5, random_state=42),\n",
       " XGBClassifier(base_score=None, booster=None, callbacks=None,\n",
       "               colsample_bylevel=None, colsample_bynode=None,\n",
       "               colsample_bytree=None, device=None, early_stopping_rounds=None,\n",
       "               enable_categorical=False, eval_metric=None, feature_types=None,\n",
       "               gamma=None, grow_policy=None, importance_type=None,\n",
       "               interaction_constraints=None, learning_rate=None, max_bin=None,\n",
       "               max_cat_threshold=None, max_cat_to_onehot=None,\n",
       "               max_delta_step=None, max_depth=3, max_leaves=None,\n",
       "               min_child_weight=None, missing=nan, monotone_constraints=None,\n",
       "               multi_strategy=None, n_estimators=None, n_jobs=None,\n",
       "               num_parallel_tree=None, random_state=42, ...),\n",
       " LogisticRegression(class_weight='balanced', random_state=42),\n",
       " DecisionTreeClassifier(class_weight='balanced'),\n",
       " BaggingClassifier(),\n",
       " GradientBoostingClassifier(),\n",
       " SVC(probability=True),\n",
       " KNeighborsClassifier(),\n",
       " GaussianNB(),\n",
       " BernoulliNB()]"
      ]
     },
     "execution_count": 55,
     "metadata": {},
     "output_type": "execute_result"
    }
   ],
   "source": [
    "list_models"
   ]
  },
  {
   "cell_type": "code",
   "execution_count": 59,
   "id": "a009c10b",
   "metadata": {},
   "outputs": [
    {
     "name": "stdout",
     "output_type": "stream",
     "text": [
      "\n",
      "🔍 Tuning GradientBoosting...\n",
      "Fitting 5 folds for each of 64 candidates, totalling 320 fits\n",
      "✅ GradientBoosting Metrics:\n",
      "   Best CV Score: 0.8752\n",
      "   ROC-AUC: 0.8563\n",
      "   PR-AUC: 0.6687\n",
      "   F1 Score: 0.6137\n",
      "   Best Params: {'learning_rate': 0.1, 'max_depth': 5, 'min_samples_leaf': 1, 'min_samples_split': 5, 'n_estimators': 200, 'subsample': 0.8}\n",
      "\n",
      "🔍 Tuning XGBoost...\n",
      "Fitting 5 folds for each of 256 candidates, totalling 1280 fits\n",
      "✅ XGBoost Metrics:\n",
      "   Best CV Score: 0.8770\n",
      "   ROC-AUC: 0.8600\n",
      "   PR-AUC: 0.6795\n",
      "   F1 Score: 0.6228\n",
      "   Best Params: {'colsample_bytree': 0.8, 'gamma': 0, 'learning_rate': 0.1, 'max_depth': 5, 'n_estimators': 200, 'reg_alpha': 1, 'reg_lambda': 1, 'subsample': 0.8}\n",
      "\n",
      "🔍 Tuning RandomForest...\n",
      "Fitting 5 folds for each of 48 candidates, totalling 240 fits\n",
      "✅ RandomForest Metrics:\n",
      "   Best CV Score: 0.9050\n",
      "   ROC-AUC: 0.8519\n",
      "   PR-AUC: 0.6483\n",
      "   F1 Score: 0.5868\n",
      "   Best Params: {'max_depth': 20, 'max_features': 'log2', 'min_samples_leaf': 1, 'min_samples_split': 2, 'n_estimators': 200}\n"
     ]
    }
   ],
   "source": [
    "from sklearn.model_selection import GridSearchCV\n",
    "\n",
    "def hyperparameter_tuning_models(X_train, y_train,y_test,X_test, scoring='f1', cv=5):\n",
    "    models = {\n",
    "        'GradientBoosting': GradientBoostingClassifier(),\n",
    "        'XGBoost': XGBClassifier(),\n",
    "        'RandomForest': RandomForestClassifier()\n",
    "    }\n",
    "\n",
    "    param_grids = {\n",
    "        'GradientBoosting': {\n",
    "            'n_estimators': [100, 200],\n",
    "            'learning_rate': [0.01, 0.1],\n",
    "            'max_depth': [3, 5],\n",
    "            'min_samples_split': [2, 5],\n",
    "            'min_samples_leaf': [1, 2],\n",
    "            'subsample': [0.8, 1.0]\n",
    "        },\n",
    "        'XGBoost': {\n",
    "            'n_estimators': [100, 200],\n",
    "            'learning_rate': [0.01, 0.1],\n",
    "            'max_depth': [3, 5],\n",
    "            'subsample': [0.8, 1.0],\n",
    "            'colsample_bytree': [0.8, 1.0],\n",
    "            'gamma': [0, 0.3],\n",
    "            'reg_alpha': [0, 1],\n",
    "            'reg_lambda': [1, 2]\n",
    "        },\n",
    "        'RandomForest': {\n",
    "            'n_estimators': [100, 200],\n",
    "            'max_depth': [None, 10, 20],\n",
    "            'min_samples_split': [2, 5],\n",
    "            'min_samples_leaf': [1, 2],\n",
    "            'max_features': ['sqrt', 'log2']\n",
    "        }\n",
    "    }\n",
    "\n",
    "    results = {}\n",
    "\n",
    "    for name in models:\n",
    "        print(f\"\\n🔍 Tuning {name}...\")\n",
    "        grid = GridSearchCV(\n",
    "            estimator=models[name],\n",
    "            param_grid=param_grids[name],\n",
    "            scoring=scoring,\n",
    "            cv=cv,\n",
    "            n_jobs=-1,\n",
    "            verbose=1\n",
    "        )\n",
    "        grid.fit(X_train, y_train)\n",
    "        best_model = grid.best_estimator_\n",
    "        y_pred = best_model.predict(X_test)\n",
    "        y_proba = best_model.predict_proba(X_test)[:, 1] if hasattr(best_model, \"predict_proba\") else y_pred\n",
    "        precision, recall, _ = precision_recall_curve(y_test, y_proba)\n",
    "        pr_auc = auc(recall, precision)\n",
    "\n",
    "        roc_auc = roc_auc_score(y_test, y_proba)\n",
    "        f1 = f1_score(y_test, y_pred)\n",
    "\n",
    "        results[name] = {\n",
    "            'best_model': best_model,\n",
    "            'best_params': grid.best_params_,\n",
    "            'best_cv_score': grid.best_score_,\n",
    "            'ROC_AUC': roc_auc,\n",
    "            'PR_AUC': pr_auc,\n",
    "            'F1_Score': f1\n",
    "        }\n",
    "\n",
    "        print(f\"✅ {name} Metrics:\")\n",
    "        print(f\"   Best CV Score: {grid.best_score_:.4f}\")\n",
    "        print(f\"   ROC-AUC: {roc_auc:.4f}\")\n",
    "        print(f\"   PR-AUC: {pr_auc:.4f}\")\n",
    "        print(f\"   F1 Score: {f1:.4f}\")\n",
    "        print(f\"   Best Params: {grid.best_params_}\")\n",
    "\n",
    "\n",
    "    return results\n",
    "\n",
    "tuned_res = hyperparameter_tuning_models(X_train_resampled, y_train_resampled,y_test,X_test_std, scoring='f1', cv=5)"
   ]
  },
  {
   "cell_type": "markdown",
   "id": "b615abf0",
   "metadata": {},
   "source": [
    "# Final model training and Evaluation"
   ]
  },
  {
   "cell_type": "code",
   "execution_count": 60,
   "id": "8ca718b9",
   "metadata": {},
   "outputs": [],
   "source": [
    "gbc = list_models[6].set_params(learning_rate=0.1, n_estimators=100, max_depth=5, min_samples_leaf=20, subsample=1.0)\n",
    "gbc.fit(X_train_resampled, y_train_resampled)\n",
    "y_pred = gbc.predict(X_test_std)"
   ]
  },
  {
   "cell_type": "code",
   "execution_count": 61,
   "id": "af39bcf2",
   "metadata": {},
   "outputs": [
    {
     "name": "stdout",
     "output_type": "stream",
     "text": [
      "\n",
      "Classification Report:\n",
      "              precision    recall  f1-score   support\n",
      "\n",
      "           0       0.91      0.91      0.91      1607\n",
      "           1       0.64      0.62      0.63       393\n",
      "\n",
      "    accuracy                           0.86      2000\n",
      "   macro avg       0.77      0.77      0.77      2000\n",
      "weighted avg       0.86      0.86      0.86      2000\n",
      "\n"
     ]
    }
   ],
   "source": [
    "print(\"\\nClassification Report:\")\n",
    "print(classification_report(y_test, y_pred))"
   ]
  },
  {
   "cell_type": "code",
   "execution_count": 62,
   "id": "ea94c4fd",
   "metadata": {},
   "outputs": [
    {
     "name": "stdout",
     "output_type": "stream",
     "text": [
      "Confusion Matrix:\n",
      "[[1470  137]\n",
      " [ 149  244]]\n"
     ]
    }
   ],
   "source": [
    "print(\"Confusion Matrix:\")\n",
    "print(confusion_matrix(y_test, y_pred))"
   ]
  },
  {
   "cell_type": "code",
   "execution_count": 63,
   "id": "ae1a40b8",
   "metadata": {},
   "outputs": [
    {
     "data": {
      "text/plain": [
       "['model.pkl']"
      ]
     },
     "execution_count": 63,
     "metadata": {},
     "output_type": "execute_result"
    }
   ],
   "source": [
    "joblib.dump(gbc, 'model.pkl')"
   ]
  },
  {
   "cell_type": "code",
   "execution_count": 64,
   "id": "8062ea2c",
   "metadata": {},
   "outputs": [
    {
     "data": {
      "text/html": [
       "<div>\n",
       "<style scoped>\n",
       "    .dataframe tbody tr th:only-of-type {\n",
       "        vertical-align: middle;\n",
       "    }\n",
       "\n",
       "    .dataframe tbody tr th {\n",
       "        vertical-align: top;\n",
       "    }\n",
       "\n",
       "    .dataframe thead th {\n",
       "        text-align: right;\n",
       "    }\n",
       "</style>\n",
       "<table border=\"1\" class=\"dataframe\">\n",
       "  <thead>\n",
       "    <tr style=\"text-align: right;\">\n",
       "      <th></th>\n",
       "      <th>CreditScore</th>\n",
       "      <th>Geography</th>\n",
       "      <th>Gender</th>\n",
       "      <th>Age</th>\n",
       "      <th>Tenure</th>\n",
       "      <th>EstimatedSalary</th>\n",
       "      <th>Balance</th>\n",
       "      <th>NumOfProducts</th>\n",
       "      <th>HasCrCard</th>\n",
       "      <th>IsActiveMember</th>\n",
       "      <th>Exited</th>\n",
       "    </tr>\n",
       "  </thead>\n",
       "  <tbody>\n",
       "    <tr>\n",
       "      <th>9996</th>\n",
       "      <td>771</td>\n",
       "      <td>France</td>\n",
       "      <td>Male</td>\n",
       "      <td>39.0</td>\n",
       "      <td>5</td>\n",
       "      <td>96270.64</td>\n",
       "      <td>0.00</td>\n",
       "      <td>2.0</td>\n",
       "      <td>No</td>\n",
       "      <td>No</td>\n",
       "      <td>0</td>\n",
       "    </tr>\n",
       "    <tr>\n",
       "      <th>9997</th>\n",
       "      <td>516</td>\n",
       "      <td>France</td>\n",
       "      <td>Male</td>\n",
       "      <td>35.0</td>\n",
       "      <td>10</td>\n",
       "      <td>101699.77</td>\n",
       "      <td>57369.61</td>\n",
       "      <td>1.0</td>\n",
       "      <td>Yes</td>\n",
       "      <td>Yes</td>\n",
       "      <td>0</td>\n",
       "    </tr>\n",
       "    <tr>\n",
       "      <th>9998</th>\n",
       "      <td>709</td>\n",
       "      <td>France</td>\n",
       "      <td>Female</td>\n",
       "      <td>36.0</td>\n",
       "      <td>7</td>\n",
       "      <td>42085.58</td>\n",
       "      <td>0.00</td>\n",
       "      <td>1.0</td>\n",
       "      <td>Yes</td>\n",
       "      <td>Yes</td>\n",
       "      <td>1</td>\n",
       "    </tr>\n",
       "    <tr>\n",
       "      <th>9999</th>\n",
       "      <td>772</td>\n",
       "      <td>Germany</td>\n",
       "      <td>Male</td>\n",
       "      <td>42.0</td>\n",
       "      <td>3</td>\n",
       "      <td>92888.52</td>\n",
       "      <td>75075.31</td>\n",
       "      <td>2.0</td>\n",
       "      <td>No</td>\n",
       "      <td>No</td>\n",
       "      <td>1</td>\n",
       "    </tr>\n",
       "    <tr>\n",
       "      <th>10000</th>\n",
       "      <td>792</td>\n",
       "      <td>France</td>\n",
       "      <td>Female</td>\n",
       "      <td>28.0</td>\n",
       "      <td>4</td>\n",
       "      <td>38190.78</td>\n",
       "      <td>130142.79</td>\n",
       "      <td>1.0</td>\n",
       "      <td>No</td>\n",
       "      <td>No</td>\n",
       "      <td>0</td>\n",
       "    </tr>\n",
       "  </tbody>\n",
       "</table>\n",
       "</div>"
      ],
      "text/plain": [
       "       CreditScore Geography  Gender   Age  Tenure  EstimatedSalary  \\\n",
       "9996           771    France    Male  39.0       5         96270.64   \n",
       "9997           516    France    Male  35.0      10        101699.77   \n",
       "9998           709    France  Female  36.0       7         42085.58   \n",
       "9999           772   Germany    Male  42.0       3         92888.52   \n",
       "10000          792    France  Female  28.0       4         38190.78   \n",
       "\n",
       "         Balance  NumOfProducts HasCrCard IsActiveMember  Exited  \n",
       "9996        0.00            2.0        No             No       0  \n",
       "9997    57369.61            1.0       Yes            Yes       0  \n",
       "9998        0.00            1.0       Yes            Yes       1  \n",
       "9999    75075.31            2.0        No             No       1  \n",
       "10000  130142.79            1.0        No             No       0  "
      ]
     },
     "execution_count": 64,
     "metadata": {},
     "output_type": "execute_result"
    }
   ],
   "source": [
    "df.tail()"
   ]
  },
  {
   "cell_type": "markdown",
   "id": "3b7fd175",
   "metadata": {},
   "source": [
    "# Testing the model"
   ]
  },
  {
   "cell_type": "code",
   "execution_count": 65,
   "id": "6516d7b6",
   "metadata": {},
   "outputs": [],
   "source": [
    "scaler = joblib.load('scaler_std.pkl')\n",
    "encoder = joblib.load('ohe_encoder.pkl')\n",
    "model = joblib.load('model.pkl')"
   ]
  },
  {
   "cell_type": "code",
   "execution_count": 66,
   "id": "f235868a",
   "metadata": {},
   "outputs": [],
   "source": [
    "def predict_churn(input_data):\n",
    "    raw_input = input_data\n",
    "    numeric_data = raw_input[:, [0, 3, 4, 5, 6, 7]].astype(float)\n",
    "    categorical_data = raw_input[:, [1, 2, 8, 9]]\n",
    "    \n",
    "    encoded_categorical = encoder.transform(categorical_data)\n",
    "    input_data = np.hstack([numeric_data, encoded_categorical])\n",
    "    scaled_data = scaler.transform(input_data)\n",
    "\n",
    "    prediction = model.predict(scaled_data)\n",
    "    \n",
    "    return prediction[0]\n"
   ]
  },
  {
   "cell_type": "code",
   "execution_count": 67,
   "id": "d94ec350",
   "metadata": {},
   "outputs": [],
   "source": [
    "input_data_1 = np.array([[792, 'France', 'Female', 28.0, 4, 38190.78, 130142.79, 1.0, 'No', 'No']], dtype=object)"
   ]
  },
  {
   "cell_type": "code",
   "execution_count": 68,
   "id": "0713721e",
   "metadata": {},
   "outputs": [
    {
     "data": {
      "text/plain": [
       "0"
      ]
     },
     "execution_count": 68,
     "metadata": {},
     "output_type": "execute_result"
    }
   ],
   "source": [
    "predict_churn(input_data_1)"
   ]
  },
  {
   "cell_type": "code",
   "execution_count": 69,
   "id": "ce505c2d",
   "metadata": {},
   "outputs": [],
   "source": [
    "input_data_2 = np.array([[502,'France','Female',42.0,8,113931.57,159660.80,3.0,'No','No']], dtype=object)"
   ]
  },
  {
   "cell_type": "code",
   "execution_count": 70,
   "id": "2d10b0d3",
   "metadata": {},
   "outputs": [
    {
     "data": {
      "text/plain": [
       "1"
      ]
     },
     "execution_count": 70,
     "metadata": {},
     "output_type": "execute_result"
    }
   ],
   "source": [
    "predict_churn(input_data_2)"
   ]
  },
  {
   "cell_type": "code",
   "execution_count": 71,
   "id": "4e46fe0b",
   "metadata": {},
   "outputs": [
    {
     "data": {
      "text/plain": [
       "1"
      ]
     },
     "execution_count": 71,
     "metadata": {},
     "output_type": "execute_result"
    }
   ],
   "source": [
    "input_data_3 = np.array([[619,'France','Female',42.0,2,101348.88,0.00,1.0,'Yes','Yes']], dtype=object)\n",
    "predict_churn(input_data_3)"
   ]
  },
  {
   "cell_type": "code",
   "execution_count": 72,
   "id": "32a4fed2",
   "metadata": {},
   "outputs": [
    {
     "data": {
      "text/html": [
       "<div>\n",
       "<style scoped>\n",
       "    .dataframe tbody tr th:only-of-type {\n",
       "        vertical-align: middle;\n",
       "    }\n",
       "\n",
       "    .dataframe tbody tr th {\n",
       "        vertical-align: top;\n",
       "    }\n",
       "\n",
       "    .dataframe thead th {\n",
       "        text-align: right;\n",
       "    }\n",
       "</style>\n",
       "<table border=\"1\" class=\"dataframe\">\n",
       "  <thead>\n",
       "    <tr style=\"text-align: right;\">\n",
       "      <th></th>\n",
       "      <th>Actual</th>\n",
       "      <th>Predicted</th>\n",
       "    </tr>\n",
       "  </thead>\n",
       "  <tbody>\n",
       "    <tr>\n",
       "      <th>6253</th>\n",
       "      <td>0</td>\n",
       "      <td>0</td>\n",
       "    </tr>\n",
       "    <tr>\n",
       "      <th>4685</th>\n",
       "      <td>0</td>\n",
       "      <td>0</td>\n",
       "    </tr>\n",
       "    <tr>\n",
       "      <th>1732</th>\n",
       "      <td>0</td>\n",
       "      <td>0</td>\n",
       "    </tr>\n",
       "    <tr>\n",
       "      <th>4743</th>\n",
       "      <td>0</td>\n",
       "      <td>0</td>\n",
       "    </tr>\n",
       "    <tr>\n",
       "      <th>4522</th>\n",
       "      <td>0</td>\n",
       "      <td>0</td>\n",
       "    </tr>\n",
       "    <tr>\n",
       "      <th>6341</th>\n",
       "      <td>0</td>\n",
       "      <td>0</td>\n",
       "    </tr>\n",
       "    <tr>\n",
       "      <th>577</th>\n",
       "      <td>0</td>\n",
       "      <td>0</td>\n",
       "    </tr>\n",
       "    <tr>\n",
       "      <th>5203</th>\n",
       "      <td>1</td>\n",
       "      <td>0</td>\n",
       "    </tr>\n",
       "    <tr>\n",
       "      <th>6364</th>\n",
       "      <td>0</td>\n",
       "      <td>0</td>\n",
       "    </tr>\n",
       "    <tr>\n",
       "      <th>440</th>\n",
       "      <td>0</td>\n",
       "      <td>1</td>\n",
       "    </tr>\n",
       "    <tr>\n",
       "      <th>2751</th>\n",
       "      <td>1</td>\n",
       "      <td>1</td>\n",
       "    </tr>\n",
       "    <tr>\n",
       "      <th>7488</th>\n",
       "      <td>1</td>\n",
       "      <td>1</td>\n",
       "    </tr>\n",
       "    <tr>\n",
       "      <th>5273</th>\n",
       "      <td>1</td>\n",
       "      <td>1</td>\n",
       "    </tr>\n",
       "    <tr>\n",
       "      <th>5654</th>\n",
       "      <td>0</td>\n",
       "      <td>1</td>\n",
       "    </tr>\n",
       "    <tr>\n",
       "      <th>4000</th>\n",
       "      <td>0</td>\n",
       "      <td>0</td>\n",
       "    </tr>\n",
       "    <tr>\n",
       "      <th>6034</th>\n",
       "      <td>0</td>\n",
       "      <td>0</td>\n",
       "    </tr>\n",
       "    <tr>\n",
       "      <th>583</th>\n",
       "      <td>0</td>\n",
       "      <td>0</td>\n",
       "    </tr>\n",
       "    <tr>\n",
       "      <th>9931</th>\n",
       "      <td>0</td>\n",
       "      <td>0</td>\n",
       "    </tr>\n",
       "    <tr>\n",
       "      <th>7052</th>\n",
       "      <td>0</td>\n",
       "      <td>0</td>\n",
       "    </tr>\n",
       "    <tr>\n",
       "      <th>8159</th>\n",
       "      <td>0</td>\n",
       "      <td>0</td>\n",
       "    </tr>\n",
       "    <tr>\n",
       "      <th>9897</th>\n",
       "      <td>0</td>\n",
       "      <td>0</td>\n",
       "    </tr>\n",
       "    <tr>\n",
       "      <th>2250</th>\n",
       "      <td>0</td>\n",
       "      <td>0</td>\n",
       "    </tr>\n",
       "    <tr>\n",
       "      <th>4641</th>\n",
       "      <td>1</td>\n",
       "      <td>0</td>\n",
       "    </tr>\n",
       "    <tr>\n",
       "      <th>9486</th>\n",
       "      <td>0</td>\n",
       "      <td>0</td>\n",
       "    </tr>\n",
       "    <tr>\n",
       "      <th>4948</th>\n",
       "      <td>0</td>\n",
       "      <td>0</td>\n",
       "    </tr>\n",
       "    <tr>\n",
       "      <th>9921</th>\n",
       "      <td>1</td>\n",
       "      <td>1</td>\n",
       "    </tr>\n",
       "    <tr>\n",
       "      <th>1964</th>\n",
       "      <td>0</td>\n",
       "      <td>0</td>\n",
       "    </tr>\n",
       "    <tr>\n",
       "      <th>8244</th>\n",
       "      <td>0</td>\n",
       "      <td>0</td>\n",
       "    </tr>\n",
       "    <tr>\n",
       "      <th>6591</th>\n",
       "      <td>0</td>\n",
       "      <td>0</td>\n",
       "    </tr>\n",
       "    <tr>\n",
       "      <th>8848</th>\n",
       "      <td>0</td>\n",
       "      <td>0</td>\n",
       "    </tr>\n",
       "  </tbody>\n",
       "</table>\n",
       "</div>"
      ],
      "text/plain": [
       "      Actual  Predicted\n",
       "6253       0          0\n",
       "4685       0          0\n",
       "1732       0          0\n",
       "4743       0          0\n",
       "4522       0          0\n",
       "6341       0          0\n",
       "577        0          0\n",
       "5203       1          0\n",
       "6364       0          0\n",
       "440        0          1\n",
       "2751       1          1\n",
       "7488       1          1\n",
       "5273       1          1\n",
       "5654       0          1\n",
       "4000       0          0\n",
       "6034       0          0\n",
       "583        0          0\n",
       "9931       0          0\n",
       "7052       0          0\n",
       "8159       0          0\n",
       "9897       0          0\n",
       "2250       0          0\n",
       "4641       1          0\n",
       "9486       0          0\n",
       "4948       0          0\n",
       "9921       1          1\n",
       "1964       0          0\n",
       "8244       0          0\n",
       "6591       0          0\n",
       "8848       0          0"
      ]
     },
     "execution_count": 72,
     "metadata": {},
     "output_type": "execute_result"
    }
   ],
   "source": [
    "comparison_df = pd.DataFrame({'Actual': y_test, 'Predicted': y_pred})\n",
    "comparison_df.head(30)"
   ]
  }
 ],
 "metadata": {
  "kernelspec": {
   "display_name": "base",
   "language": "python",
   "name": "python3"
  },
  "language_info": {
   "codemirror_mode": {
    "name": "ipython",
    "version": 3
   },
   "file_extension": ".py",
   "mimetype": "text/x-python",
   "name": "python",
   "nbconvert_exporter": "python",
   "pygments_lexer": "ipython3",
   "version": "3.12.7"
  }
 },
 "nbformat": 4,
 "nbformat_minor": 5
}
